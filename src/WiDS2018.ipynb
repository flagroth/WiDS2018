{
 "cells": [
  {
   "cell_type": "markdown",
   "metadata": {},
   "source": [
    "# Análisis dataset WiDS2018 Fundación Bill & Melinda Gates"
   ]
  },
  {
   "cell_type": "markdown",
   "metadata": {},
   "source": [
    "#### Autor: Javier Cano Montero"
   ]
  },
  {
   "cell_type": "markdown",
   "metadata": {},
   "source": [
    "El objetivo del siguiente trabajo consiste en crear un modelo capaz de predecir el género de una persona según sus respuestas en una encuesta realizada en la India. La temática de la encuesta es acerca del uso de servicios financieros y el móvil."
   ]
  },
  {
   "cell_type": "markdown",
   "metadata": {},
   "source": [
    "Comencemos importando las librerías que vamos a utilizar en el desarrollo:\n",
    "- pandas para manejar los datos\n",
    "- numpy para la representación matemática\n",
    "- matplotlib para hacer gráficos\n",
    "- scikit-learn para el modelado del predictor"
   ]
  },
  {
   "cell_type": "code",
   "execution_count": 1,
   "metadata": {},
   "outputs": [],
   "source": [
    "import pandas as pd\n",
    "import numpy as np\n",
    "import matplotlib.pyplot as plt\n",
    "from sklearn.ensemble import GradientBoostingClassifier as GBT\n",
    "from sklearn.impute import SimpleImputer\n",
    "from sklearn.preprocessing import OneHotEncoder\n",
    "from sklearn.model_selection import train_test_split\n",
    "from sklearn.metrics import accuracy_score,precision_score, recall_score, roc_curve, auc"
   ]
  },
  {
   "cell_type": "markdown",
   "metadata": {},
   "source": [
    "Leemos los datos de train en un dataframe, indicando que el índice de cada observación está indicado en la columna 'train_id'."
   ]
  },
  {
   "cell_type": "code",
   "execution_count": 2,
   "metadata": {},
   "outputs": [],
   "source": [
    "train = pd.read_csv(\"../data/train.csv\",index_col='train_id', low_memory=False)"
   ]
  },
  {
   "cell_type": "markdown",
   "metadata": {},
   "source": [
    "Extraemos la variable a predecir 'is_female' y la guardamos en la variable **y**. A continuación la eliminamos del dataframe 'train' ya que no la usaremos más."
   ]
  },
  {
   "cell_type": "code",
   "execution_count": 3,
   "metadata": {},
   "outputs": [],
   "source": [
    "y = train['is_female']\n",
    "y = y.astype('int')\n",
    "train.drop('is_female', axis=1, inplace=True)"
   ]
  },
  {
   "cell_type": "markdown",
   "metadata": {},
   "source": [
    "Antes de empezar, vamos a ver cómo de balanceadas son las dos clases. En el enunciado se nos dice que la muestra es representativa de la demografía. Vemos que el 53% de los encuestados son mujeres y el 47% son hombres. Esto nos indica que el conjunto está balanceado."
   ]
  },
  {
   "cell_type": "code",
   "execution_count": 4,
   "metadata": {},
   "outputs": [
    {
     "data": {
      "image/png": "[encoded data removed]",
      "text/plain": [
       "<Figure size 432x288 with 1 Axes>"
      ]
     },
     "metadata": {
      "needs_background": "light"
     },
     "output_type": "display_data"
    }
   ],
   "source": [
    "y.value_counts().plot(kind='bar')\n",
    "plt.xlabel('is_female')\n",
    "plt.ylabel('count')\n",
    "plt.title('Target distribution: ' + \"{0:.2f}\".format((len(y[y==1])/len(y))*100) + '% females')\n",
    "plt.show()"
   ]
  },
  {
   "cell_type": "markdown",
   "metadata": {},
   "source": [
    "El dataframe 'train' tiene 18.255 observaciones (encuestados) con 1.233 variables a tener en cuenta."
   ]
  },
  {
   "cell_type": "code",
   "execution_count": 5,
   "metadata": {},
   "outputs": [
    {
     "data": {
      "text/plain": [
       "(18255, 1233)"
      ]
     },
     "execution_count": 5,
     "metadata": {},
     "output_type": "execute_result"
    }
   ],
   "source": [
    "train.shape"
   ]
  },
  {
   "cell_type": "markdown",
   "metadata": {},
   "source": [
    "## Feature engineering"
   ]
  },
  {
   "cell_type": "markdown",
   "metadata": {},
   "source": [
    "### Variables numéricas"
   ]
  },
  {
   "cell_type": "markdown",
   "metadata": {},
   "source": [
    "Según el diccionario de datos las únicas variables numéricas existentes en el dataset son las siguientes. "
   ]
  },
  {
   "cell_type": "code",
   "execution_count": 6,
   "metadata": {},
   "outputs": [],
   "source": [
    "numeric_variables = ['AA17','DG1','DG8a','DG8b','DG9a','DG9b','DG9c','DL8','DL11','MT1','MT6C',\n",
    "                     'FF7_1','FF7_2','FF7_3','FF7_4','FF7_5','FF7_6','FF7_7','FF7_96',\n",
    "                     'FF8_1','FF8_2','FF8_3','FF8_4','FF8_5','FF8_6','FF8_7','FF8_96',\n",
    "                     'MM23','IFI18','FB13','FB14','FB15','RI5_1','RI5_2','RI5_3']"
   ]
  },
  {
   "cell_type": "markdown",
   "metadata": {},
   "source": [
    "Comprobamos que todas las variables identificadas están en el dataset, pero comprobamos que faltan alguns:"
   ]
  },
  {
   "cell_type": "code",
   "execution_count": 7,
   "metadata": {},
   "outputs": [
    {
     "data": {
      "text/plain": [
       "['AA17', 'RI5_1', 'RI5_2', 'RI5_3']"
      ]
     },
     "execution_count": 7,
     "metadata": {},
     "output_type": "execute_result"
    }
   ],
   "source": [
    "[i for i in numeric_variables if i not in train.columns]"
   ]
  },
  {
   "cell_type": "markdown",
   "metadata": {},
   "source": [
    "Según el diccionario, las variables AA17, RI5_1, RI5_2 y RI5_3 son números de teléfono, así que no aportarían nada al análisis."
   ]
  },
  {
   "cell_type": "markdown",
   "metadata": {},
   "source": [
    "Nos quedamos con las variables que sí existen y las separamos en numéricas y categóricas."
   ]
  },
  {
   "cell_type": "code",
   "execution_count": 8,
   "metadata": {},
   "outputs": [],
   "source": [
    "numeric_variables = [i for i in train.columns if i in numeric_variables]\n",
    "categorical_variables = [i for i in train.columns if i not in numeric_variables]"
   ]
  },
  {
   "cell_type": "markdown",
   "metadata": {},
   "source": [
    "Tenemos 31 variables numéricas."
   ]
  },
  {
   "cell_type": "code",
   "execution_count": 9,
   "metadata": {},
   "outputs": [
    {
     "data": {
      "text/plain": [
       "31"
      ]
     },
     "execution_count": 9,
     "metadata": {},
     "output_type": "execute_result"
    }
   ],
   "source": [
    "len(numeric_variables)"
   ]
  },
  {
   "cell_type": "markdown",
   "metadata": {},
   "source": [
    "En el diccionario de datos se puede observar que para las variables numéricas la respuesta 99 implica un NS/NC, por lo que lo trataremos con un valor no disponible *null* y eliminamos las variables que estén vacías."
   ]
  },
  {
   "cell_type": "code",
   "execution_count": 10,
   "metadata": {},
   "outputs": [],
   "source": [
    "train[numeric_variables] = train[numeric_variables].replace(99,np.nan)\n",
    "train_nvars = train[numeric_variables].dropna(axis=1, how='all')"
   ]
  },
  {
   "cell_type": "markdown",
   "metadata": {},
   "source": [
    "Podemos ver que tras este proceso, se puede eliminar la variable MM23, ya que solo contiene *nulls*."
   ]
  },
  {
   "cell_type": "code",
   "execution_count": 11,
   "metadata": {},
   "outputs": [
    {
     "data": {
      "text/plain": [
       "['MM23']"
      ]
     },
     "execution_count": 11,
     "metadata": {},
     "output_type": "execute_result"
    }
   ],
   "source": [
    "[i for i in numeric_variables if i not in train_nvars.columns]"
   ]
  },
  {
   "cell_type": "markdown",
   "metadata": {},
   "source": [
    "Procedemos a actualizar la lista de variables numéricas."
   ]
  },
  {
   "cell_type": "code",
   "execution_count": 12,
   "metadata": {},
   "outputs": [],
   "source": [
    "numeric_variables = [i for i in train_nvars.columns if i in numeric_variables]"
   ]
  },
  {
   "cell_type": "markdown",
   "metadata": {},
   "source": [
    "Finalmente, tras todo el proceso nos quedamos con 30 variables numéricas."
   ]
  },
  {
   "cell_type": "code",
   "execution_count": 13,
   "metadata": {},
   "outputs": [
    {
     "data": {
      "text/plain": [
       "30"
      ]
     },
     "execution_count": 13,
     "metadata": {},
     "output_type": "execute_result"
    }
   ],
   "source": [
    "len(numeric_variables)"
   ]
  },
  {
   "cell_type": "markdown",
   "metadata": {},
   "source": [
    "Una vez seleccionadas las 30 variables numéricas que vamos a utilizar para entrenar el modelo, necesitamos manejar los valores faltantes o *nulls*. Veamos cómo se distribuyen."
   ]
  },
  {
   "cell_type": "code",
   "execution_count": 14,
   "metadata": {},
   "outputs": [
    {
     "data": {
      "image/png": "[encoded data removed]",
      "text/plain": [
       "<Figure size 432x288 with 1 Axes>"
      ]
     },
     "metadata": {
      "needs_background": "light"
     },
     "output_type": "display_data"
    }
   ],
   "source": [
    "pd.isna(train_nvars).sum().plot(kind='bar')\n",
    "plt.title('Cantidad de valores nulos totales: ' + str(pd.isna(train_nvars).values.sum()))\n",
    "plt.axhline(round(train_nvars.shape[0]/2), color=\"red\")\n",
    "plt.text(31, round(train_nvars.shape[0]/2), \"9128\", va='center', ha=\"left\", bbox=dict(facecolor=\"w\",alpha=0.5))\n",
    "plt.xlabel('Variable')\n",
    "plt.ylabel('count')\n",
    "plt.show()"
   ]
  },
  {
   "cell_type": "markdown",
   "metadata": {},
   "source": [
    "Vemos que hay algunas variables que tienen más del 50% de observaciones como *nulls*. Estas variables nos está disminuyendo la calidad del conjunto de datos, así que es mejor eliminarlas del análisis."
   ]
  },
  {
   "cell_type": "code",
   "execution_count": 15,
   "metadata": {},
   "outputs": [],
   "source": [
    "train_nvars = train_nvars.dropna(thresh=round(train_nvars.shape[0]/2), axis=1)"
   ]
  },
  {
   "cell_type": "markdown",
   "metadata": {},
   "source": [
    "Podemos ver que tras este proceso, se puede eliminar las variables DG9\\*, DL8, MT6C, FF8\\*, FB14 y FB15, ya que tenían más del 50% de valores a *null*."
   ]
  },
  {
   "cell_type": "code",
   "execution_count": 16,
   "metadata": {},
   "outputs": [
    {
     "data": {
      "text/plain": [
       "['DG9b',\n",
       " 'DG9c',\n",
       " 'DL8',\n",
       " 'MT6C',\n",
       " 'FF8_1',\n",
       " 'FF8_2',\n",
       " 'FF8_3',\n",
       " 'FF8_4',\n",
       " 'FF8_5',\n",
       " 'FF8_6',\n",
       " 'FF8_7',\n",
       " 'FF8_96',\n",
       " 'FB14',\n",
       " 'FB15']"
      ]
     },
     "execution_count": 16,
     "metadata": {},
     "output_type": "execute_result"
    }
   ],
   "source": [
    "[i for i in numeric_variables if i not in train_nvars.columns]"
   ]
  },
  {
   "cell_type": "markdown",
   "metadata": {},
   "source": [
    "Procedemos a actualizar la lista de variables numéricas."
   ]
  },
  {
   "cell_type": "code",
   "execution_count": 17,
   "metadata": {},
   "outputs": [],
   "source": [
    "numeric_variables = [i for i in train_nvars.columns if i in numeric_variables]"
   ]
  },
  {
   "cell_type": "markdown",
   "metadata": {},
   "source": [
    "Nos quedamos con 16 variables numéricas."
   ]
  },
  {
   "cell_type": "code",
   "execution_count": 18,
   "metadata": {},
   "outputs": [
    {
     "data": {
      "text/plain": [
       "16"
      ]
     },
     "execution_count": 18,
     "metadata": {},
     "output_type": "execute_result"
    }
   ],
   "source": [
    "len(numeric_variables)"
   ]
  },
  {
   "cell_type": "markdown",
   "metadata": {},
   "source": [
    "Para rellenar los *null* en las variables restantes vamos a proceder a imputarlos. Imputar un dato es rellenar ese faltante según un criterio. Los criterios más comunes son elegir un valor constante (0 por ejemplo), la media o la mediana de la columna. He decidido que se imputarán los valores a la media."
   ]
  },
  {
   "cell_type": "code",
   "execution_count": 19,
   "metadata": {},
   "outputs": [],
   "source": [
    "imp_num = SimpleImputer(missing_values=np.nan, strategy='mean')\n",
    "train_nvars = pd.DataFrame(imp_num.fit_transform(train_nvars[numeric_variables]),columns=numeric_variables)"
   ]
  },
  {
   "cell_type": "markdown",
   "metadata": {},
   "source": [
    "### Variables categóricas"
   ]
  },
  {
   "cell_type": "markdown",
   "metadata": {},
   "source": [
    "Hora de trabajar con las categóricas. Comenzamos con 1.202 variables categóricas."
   ]
  },
  {
   "cell_type": "code",
   "execution_count": 20,
   "metadata": {},
   "outputs": [
    {
     "data": {
      "text/plain": [
       "1202"
      ]
     },
     "execution_count": 20,
     "metadata": {},
     "output_type": "execute_result"
    }
   ],
   "source": [
    "len(categorical_variables)"
   ]
  },
  {
   "cell_type": "markdown",
   "metadata": {},
   "source": [
    "Eliminamos aquellas que están vacías de información (completamente *null*)"
   ]
  },
  {
   "cell_type": "code",
   "execution_count": 21,
   "metadata": {},
   "outputs": [],
   "source": [
    "train_cvars = train[categorical_variables].dropna(axis=1, how='all')"
   ]
  },
  {
   "cell_type": "markdown",
   "metadata": {},
   "source": [
    "Ejecutando la siguiente línea puede verse cuáles son las variables que se eliminan. Por claridad no se muestran en el análisis."
   ]
  },
  {
   "cell_type": "code",
   "execution_count": 22,
   "metadata": {},
   "outputs": [],
   "source": [
    "#[i for i in categorical_variables if i not in train_cvars.columns]"
   ]
  },
  {
   "cell_type": "markdown",
   "metadata": {},
   "source": [
    "Actualizamos el listado de variables categóricas."
   ]
  },
  {
   "cell_type": "code",
   "execution_count": 23,
   "metadata": {},
   "outputs": [],
   "source": [
    "categorical_variables = [i for i in train_cvars.columns if i not in numeric_variables]"
   ]
  },
  {
   "cell_type": "markdown",
   "metadata": {},
   "source": [
    "Y vemos que ahora tenemos 1.152 variables categóricas. Todas con información, aunque siguen manteniendo valores *null*."
   ]
  },
  {
   "cell_type": "code",
   "execution_count": 24,
   "metadata": {},
   "outputs": [
    {
     "data": {
      "text/plain": [
       "1152"
      ]
     },
     "execution_count": 24,
     "metadata": {},
     "output_type": "execute_result"
    }
   ],
   "source": [
    "len(categorical_variables)"
   ]
  },
  {
   "cell_type": "markdown",
   "metadata": {},
   "source": [
    "Para imputar los valores *null* de las variables categóricas usaremos el valor de la clase más frecuente."
   ]
  },
  {
   "cell_type": "code",
   "execution_count": 25,
   "metadata": {},
   "outputs": [],
   "source": [
    "imp_cat = SimpleImputer(strategy=\"most_frequent\")\n",
    "train_cvars = pd.DataFrame(imp_cat.fit_transform(train_cvars[categorical_variables]),columns=categorical_variables)"
   ]
  },
  {
   "cell_type": "markdown",
   "metadata": {},
   "source": [
    "Al haber imputado, puede que alguna variable con una alta tasa de *nulls* ahora contenga un único valor, por lo que no aportaría nada al modelo. Vamos a proceder a eliminar estas variables."
   ]
  },
  {
   "cell_type": "code",
   "execution_count": 26,
   "metadata": {},
   "outputs": [],
   "source": [
    "for col in train_cvars.columns:\n",
    "    if len(train_cvars[col].unique()) == 1:\n",
    "        train_cvars.drop(col,inplace=True,axis=1)"
   ]
  },
  {
   "cell_type": "markdown",
   "metadata": {},
   "source": [
    "Ejecutando la siguiente línea puede verse cuáles son las variables que se eliminan. Por claridad se deja la línea comentada."
   ]
  },
  {
   "cell_type": "code",
   "execution_count": 27,
   "metadata": {},
   "outputs": [],
   "source": [
    "#[i for i in categorical_variables if i not in train_cvars.columns]"
   ]
  },
  {
   "cell_type": "markdown",
   "metadata": {},
   "source": [
    "Actualizamos el listado de variables categóricas."
   ]
  },
  {
   "cell_type": "code",
   "execution_count": 28,
   "metadata": {},
   "outputs": [],
   "source": [
    "categorical_variables = [i for i in train_cvars.columns if i not in numeric_variables]"
   ]
  },
  {
   "cell_type": "markdown",
   "metadata": {},
   "source": [
    "Y vemos que ahora tenemos 1.076 variables categóricas."
   ]
  },
  {
   "cell_type": "code",
   "execution_count": 29,
   "metadata": {},
   "outputs": [
    {
     "data": {
      "text/plain": [
       "1076"
      ]
     },
     "execution_count": 29,
     "metadata": {},
     "output_type": "execute_result"
    }
   ],
   "source": [
    "len(categorical_variables)"
   ]
  },
  {
   "cell_type": "markdown",
   "metadata": {},
   "source": [
    "Ahora crearemos un imputador con las variables categóricas definitivas de forma que podamos aplicarlo posteriormente en el conjunto de test. Para ello reutilizaremos el creado anteriormente pero entrenando con las variables finales."
   ]
  },
  {
   "cell_type": "code",
   "execution_count": 30,
   "metadata": {},
   "outputs": [
    {
     "data": {
      "text/plain": [
       "SimpleImputer(copy=True, fill_value=None, missing_values=nan,\n",
       "       strategy='most_frequent', verbose=0)"
      ]
     },
     "execution_count": 30,
     "metadata": {},
     "output_type": "execute_result"
    }
   ],
   "source": [
    "imp_cat.fit(train_cvars[categorical_variables])"
   ]
  },
  {
   "cell_type": "markdown",
   "metadata": {},
   "source": [
    "### Construyendo un conjunto de entrenamiento 'limpio'"
   ]
  },
  {
   "cell_type": "markdown",
   "metadata": {},
   "source": [
    "Tras toda esta tarea de limpieza ya tenemos nuestro conjunto \"train\" final. Solo hay que concatenar los datasets con las 16 variables numéricas y las 1076 categóricas. También actualizamos la lista de variables que usaremos para entrenar el modelo de cara a poder seleccionarlas luego en el conjunto 'test'."
   ]
  },
  {
   "cell_type": "code",
   "execution_count": 31,
   "metadata": {},
   "outputs": [],
   "source": [
    "train = pd.concat([train_nvars,train_cvars], axis=1, sort=False)\n",
    "train_variables = numeric_variables+categorical_variables"
   ]
  },
  {
   "cell_type": "code",
   "execution_count": 32,
   "metadata": {},
   "outputs": [
    {
     "data": {
      "text/plain": [
       "(18255, 1092)"
      ]
     },
     "execution_count": 32,
     "metadata": {},
     "output_type": "execute_result"
    }
   ],
   "source": [
    "train.shape"
   ]
  },
  {
   "cell_type": "markdown",
   "metadata": {},
   "source": [
    "El framework scikit-learn está diseñado para utilizar únicamente números. Algunas variables categóricas son strings, por lo que si procedemos a entrenar el modelo con el dataframe actual nos dará un error. Para poder continuar necesitamos realizar un encoding sobre el dataframe 'train'. </br> Este proceso consiste en crear variables sintéticas que indican que una clase determinada en una variable categórica es la elegida. El valor de estas variables sintéticas será 1 para la clase de la observación y 0 para la otra. Por ejemplo, si una variable 'ELEGIR' de tipo categórica tiene las clases SI y NO, se crearán dos variables sintéticas 'ELEGIR_SI' y 'ELEGIR_NO'. Si en la observación original la variable tenía el valor 'SI', 'ELEGIR_SI'=1 y 'ELEGIR_NO'=0. </br> También se coloca el flag de control handle_unkown='ignore' ya que el conjunto de 'test' puede tener respuestas no contempladas en el conjunto de 'train'. Este flag hace que se cree una nueva clase 'unkown' en caso de que ocurra."
   ]
  },
  {
   "cell_type": "code",
   "execution_count": 33,
   "metadata": {},
   "outputs": [],
   "source": [
    "enc = OneHotEncoder(handle_unknown='ignore')"
   ]
  },
  {
   "cell_type": "code",
   "execution_count": 34,
   "metadata": {},
   "outputs": [],
   "source": [
    "X = enc.fit_transform(train)"
   ]
  },
  {
   "cell_type": "markdown",
   "metadata": {},
   "source": [
    "Se puede ver que el proceso de encoding mantiene el número de observaciones, pero dispara (como era de esperar) el número de variables."
   ]
  },
  {
   "cell_type": "code",
   "execution_count": 35,
   "metadata": {},
   "outputs": [
    {
     "data": {
      "text/plain": [
       "(18255, 7464)"
      ]
     },
     "execution_count": 35,
     "metadata": {},
     "output_type": "execute_result"
    }
   ],
   "source": [
    "X.shape"
   ]
  },
  {
   "cell_type": "markdown",
   "metadata": {},
   "source": [
    "## Entrenando el modelo"
   ]
  },
  {
   "cell_type": "markdown",
   "metadata": {},
   "source": [
    "El conjunto 'test' suministrado no contiene etiquetado, así que para validar el modelo que construyamos es necesario obtener un conjunto de validación sobre el que obtener métricas. Este conjunto (X_validation) tendrá el 30% del conjunto 'train' original y crearemos un nuevo conjunto de entrenamiento (X_train)."
   ]
  },
  {
   "cell_type": "code",
   "execution_count": 36,
   "metadata": {},
   "outputs": [],
   "source": [
    "X_train, X_validation, y_train, y_validation = train_test_split(X, y, test_size=0.30, random_state=77)"
   ]
  },
  {
   "cell_type": "code",
   "execution_count": 37,
   "metadata": {},
   "outputs": [
    {
     "data": {
      "text/plain": [
       "(12778, 7464)"
      ]
     },
     "execution_count": 37,
     "metadata": {},
     "output_type": "execute_result"
    }
   ],
   "source": [
    "X_train.shape"
   ]
  },
  {
   "cell_type": "markdown",
   "metadata": {},
   "source": [
    "Para predecir la variable objetivo 'is_female', vamos a construir un modelo de clasificación de gradiente descendente. Este modelo es un ensamblado de 250 árboles de decisión con muy poca profundidad (3), pero que en conjunto predecirán correctamente (espero) la variable objetivo."
   ]
  },
  {
   "cell_type": "code",
   "execution_count": 38,
   "metadata": {},
   "outputs": [],
   "source": [
    "params = {'n_estimators': 250, 'max_depth': 3,\n",
    "          'learning_rate': 0.01, 'min_samples_leaf': 1, 'random_state': 3, 'verbose': 1}"
   ]
  },
  {
   "cell_type": "code",
   "execution_count": 39,
   "metadata": {},
   "outputs": [
    {
     "name": "stdout",
     "output_type": "stream",
     "text": [
      "      Iter       Train Loss   Remaining Time \n",
      "         1           1.3674            6.69m\n",
      "         2           1.3550            5.84m\n",
      "         3           1.3428            5.56m\n",
      "         4           1.3309            5.42m\n",
      "         5           1.3192            5.31m\n",
      "         6           1.3078            5.24m\n",
      "         7           1.2966            5.18m\n",
      "         8           1.2856            5.10m\n",
      "         9           1.2747            5.04m\n",
      "        10           1.2641            5.00m\n",
      "        20           1.1681            4.68m\n",
      "        30           1.0876            4.47m\n",
      "        40           1.0196            4.24m\n",
      "        50           0.9617            4.04m\n",
      "        60           0.9119            3.83m\n",
      "        70           0.8688            3.62m\n",
      "        80           0.8313            3.42m\n",
      "        90           0.7985            3.21m\n",
      "       100           0.7698            3.00m\n",
      "       200           0.6032           59.68s\n"
     ]
    },
    {
     "data": {
      "text/plain": [
       "GradientBoostingClassifier(criterion='friedman_mse', init=None,\n",
       "              learning_rate=0.01, loss='deviance', max_depth=3,\n",
       "              max_features=None, max_leaf_nodes=None,\n",
       "              min_impurity_decrease=0.0, min_impurity_split=None,\n",
       "              min_samples_leaf=1, min_samples_split=2,\n",
       "              min_weight_fraction_leaf=0.0, n_estimators=250,\n",
       "              n_iter_no_change=None, presort='auto', random_state=3,\n",
       "              subsample=1.0, tol=0.0001, validation_fraction=0.1,\n",
       "              verbose=1, warm_start=False)"
      ]
     },
     "execution_count": 39,
     "metadata": {},
     "output_type": "execute_result"
    }
   ],
   "source": [
    "model=GBT(**params)\n",
    "model.fit(X_train,y_train)"
   ]
  },
  {
   "cell_type": "markdown",
   "metadata": {},
   "source": [
    "## Validación del modelo"
   ]
  },
  {
   "cell_type": "markdown",
   "metadata": {},
   "source": [
    "Una vez entrenado el modelo predeciremos la variable objetivo en el conjunto de validación y obtendremos unas métricas para ver cómo de bueno es el predictor."
   ]
  },
  {
   "cell_type": "code",
   "execution_count": 40,
   "metadata": {},
   "outputs": [],
   "source": [
    "y_pred = model.predict(X_validation)"
   ]
  },
  {
   "cell_type": "markdown",
   "metadata": {},
   "source": [
    "El modelo tiene un 89.6% de exactitud en la predicción sobre el conjunto de validación, es decir, acierta 9 de cada 10 predicciones. Este modelo parece bueno, pero la exactitud no es suficiente para saberlo, ya que si las dos clases a predecir están desbalanceadas podría darse el caso de que prediga muy bien la clase mayoritaria pero no la minoritaria."
   ]
  },
  {
   "cell_type": "code",
   "execution_count": 41,
   "metadata": {},
   "outputs": [
    {
     "name": "stdout",
     "output_type": "stream",
     "text": [
      "Exactitud:\t0.8962935913821435\n"
     ]
    }
   ],
   "source": [
    "print(\"Exactitud:\\t\"+str(accuracy_score(y_validation,y_pred)))"
   ]
  },
  {
   "cell_type": "markdown",
   "metadata": {},
   "source": [
    "Para asegurarnos que nuestro clasificador está funcionando correctamente, vamos a obtener las métricas de precisión y recuperación. Para explicar estas métricas voy a recurrir a un ejemplo:\n",
    "- Precisión. ¿Cuántas mujeres son realmente mujeres en mi predición?\n",
    "- Recuperación. ¿Cuántas mujeres he recuperado del total de mujeres?"
   ]
  },
  {
   "cell_type": "markdown",
   "metadata": {},
   "source": [
    "Se puede ver que en ambas métricas el resultado es aproximadamente un 90%, por lo que podemos decir que el modelo es muy bueno."
   ]
  },
  {
   "cell_type": "code",
   "execution_count": 42,
   "metadata": {},
   "outputs": [
    {
     "name": "stdout",
     "output_type": "stream",
     "text": [
      "Precisión:\t0.9018194301407484\n",
      "Recuperación:\t0.9030594706084565\n"
     ]
    }
   ],
   "source": [
    "print(\"Precisión:\\t\"+str(precision_score(y_validation,y_pred)))\n",
    "print(\"Recuperación:\\t\"+str(recall_score(y_validation,y_pred)))"
   ]
  },
  {
   "cell_type": "markdown",
   "metadata": {},
   "source": [
    "Además de las métricas, vamos a proceder a graficar la curva ROC. Podemos ver que la métrica del AUC es consistente con las ya obtenidas y es también aproximadamente un 90%."
   ]
  },
  {
   "cell_type": "code",
   "execution_count": 43,
   "metadata": {},
   "outputs": [
    {
     "data": {
      "image/png": "[encoded data removed]",
      "text/plain": [
       "<Figure size 432x288 with 1 Axes>"
      ]
     },
     "metadata": {
      "needs_background": "light"
     },
     "output_type": "display_data"
    }
   ],
   "source": [
    "fpr,tpr,_=roc_curve(y_validation,y_pred)\n",
    "\n",
    "score = auc(fpr,tpr)\n",
    "\n",
    "plt.figure()\n",
    "lw = 2\n",
    "plt.plot(fpr, tpr, color='darkorange',\n",
    "         lw=lw, label='ROC curve (area = %0.2f)' % score)\n",
    "plt.plot([0, 1], [0, 1], color='navy', lw=lw, linestyle='--')\n",
    "plt.xlim([0.0, 1.0])\n",
    "plt.ylim([0.0, 1.05])\n",
    "plt.xlabel('False Positive Rate')\n",
    "plt.ylabel('True Positive Rate')\n",
    "plt.title('Receiver operating characteristic example')\n",
    "plt.legend(loc=\"lower right\")\n",
    "plt.show()"
   ]
  },
  {
   "cell_type": "markdown",
   "metadata": {},
   "source": [
    "El modelo en sí nos permite predecir el género del encuestado, pero además podemos saber en qué variables se ha fijado el modelo para tomar esa decisión calculando la importancia."
   ]
  },
  {
   "cell_type": "markdown",
   "metadata": {},
   "source": [
    "(Se puede modificar el número de variables a dibujar cambiando el valor de N)"
   ]
  },
  {
   "cell_type": "code",
   "execution_count": 44,
   "metadata": {},
   "outputs": [],
   "source": [
    "N = 10"
   ]
  },
  {
   "cell_type": "code",
   "execution_count": 45,
   "metadata": {},
   "outputs": [
    {
     "data": {
      "image/png": "[encoded data removed]",
      "text/plain": [
       "<Figure size 432x288 with 1 Axes>"
      ]
     },
     "metadata": {
      "needs_background": "light"
     },
     "output_type": "display_data"
    }
   ],
   "source": [
    "feature_names = enc.get_feature_names(train_variables)\n",
    "\n",
    "# Plot feature importance\n",
    "feature_importance = model.feature_importances_\n",
    "# make importances relative to max importance\n",
    "feature_importance = 100.0 * (feature_importance / feature_importance.max())\n",
    "sorted_idx = np.argsort(feature_importance)\n",
    "\n",
    "feature_importance[sorted_idx][-1:]\n",
    "\n",
    "feature_names[sorted_idx]\n",
    "\n",
    "pos = np.arange(N) + .5\n",
    "plt.barh(pos, feature_importance[sorted_idx][-N:], align='center')\n",
    "plt.yticks(pos, feature_names[sorted_idx][-N:])\n",
    "plt.xlabel('Relative Importance')\n",
    "plt.title('Variable Importance')\n",
    "plt.show()"
   ]
  },
  {
   "cell_type": "markdown",
   "metadata": {},
   "source": [
    "De las variables más importantes se puede concluir que el modelo decide que un encuestado es del género femenino si es la \"esposa\" del cabeza de familia (DG6_2), \"en los últimos 12 meses ha sido ama o amo de casa\" (DL1_7), \"es viuda o viudo\" (DG3_6)..."
   ]
  },
  {
   "cell_type": "markdown",
   "metadata": {},
   "source": [
    "## Creando un fichero submission"
   ]
  },
  {
   "cell_type": "markdown",
   "metadata": {},
   "source": [
    "Otro requisito era crear un fichero 'submission.csv' en el mismo formato que 'sample_submission.csv', para ello leemos el fichero 'test'.csv'."
   ]
  },
  {
   "cell_type": "code",
   "execution_count": 46,
   "metadata": {},
   "outputs": [],
   "source": [
    "test = pd.read_csv(\"../data/test.csv\",index_col='test_id', low_memory=False)"
   ]
  },
  {
   "cell_type": "markdown",
   "metadata": {},
   "source": [
    "Seleccionamos las mismas variables usadas en el entrenamiento del modelo."
   ]
  },
  {
   "cell_type": "code",
   "execution_count": 47,
   "metadata": {},
   "outputs": [],
   "source": [
    "test = test[train_variables]"
   ]
  },
  {
   "cell_type": "markdown",
   "metadata": {},
   "source": [
    "Imputamos los *null* de las variables numéricas a la media del conjunto de entrenamiento."
   ]
  },
  {
   "cell_type": "code",
   "execution_count": 48,
   "metadata": {},
   "outputs": [],
   "source": [
    "test_nvars = pd.DataFrame(imp_num.transform(test[numeric_variables]),columns=numeric_variables)"
   ]
  },
  {
   "cell_type": "markdown",
   "metadata": {},
   "source": [
    "Imputamos los *null* de las variables categóricas a la clase más frecuente del conjunto de entrenamiento."
   ]
  },
  {
   "cell_type": "code",
   "execution_count": 49,
   "metadata": {},
   "outputs": [],
   "source": [
    "test_cvars = pd.DataFrame(imp_cat.transform(test[categorical_variables]),columns=categorical_variables)"
   ]
  },
  {
   "cell_type": "markdown",
   "metadata": {},
   "source": [
    "Concatenamos las variables numéricas y categóricas del conjunto de 'test'"
   ]
  },
  {
   "cell_type": "code",
   "execution_count": 50,
   "metadata": {},
   "outputs": [],
   "source": [
    "test = pd.concat([test_nvars,test_cvars], axis=1, sort=False)"
   ]
  },
  {
   "cell_type": "markdown",
   "metadata": {},
   "source": [
    "Realizamos el encoding de las variables categóricas de entrenamiento. En caso de encontrar nuevas clases las asignará a una clase 'unkown'."
   ]
  },
  {
   "cell_type": "code",
   "execution_count": 51,
   "metadata": {},
   "outputs": [],
   "source": [
    "X_test = enc.transform(test)"
   ]
  },
  {
   "cell_type": "markdown",
   "metadata": {},
   "source": [
    "Predecimos la probabilidad de que el encuestado sea hombre o mujer usando el modelo creado y validado."
   ]
  },
  {
   "cell_type": "code",
   "execution_count": 52,
   "metadata": {},
   "outputs": [],
   "source": [
    "y_pred = model.predict_proba(X_test)"
   ]
  },
  {
   "cell_type": "markdown",
   "metadata": {},
   "source": [
    "Generamos un dataframe con el contenido requerido en el ejercicio y lo guardamos en *data/submission.csv*."
   ]
  },
  {
   "cell_type": "code",
   "execution_count": 53,
   "metadata": {},
   "outputs": [],
   "source": [
    "submission = pd.DataFrame()\n",
    "submission['test_id']=range(0,len(y_pred))\n",
    "submission['is_female']=y_pred[:,1]\n",
    "submission.to_csv('../data/submission.csv', index=False)"
   ]
  },
  {
   "cell_type": "markdown",
   "metadata": {},
   "source": [
    "# Anexos"
   ]
  },
  {
   "cell_type": "markdown",
   "metadata": {},
   "source": [
    "## Diccionario de las variables importantes"
   ]
  },
  {
   "cell_type": "markdown",
   "metadata": {},
   "source": [
    "DL0. Who is the main income earner in your household?\"1=Myself, 2=Somebody else\""
   ]
  },
  {
   "cell_type": "markdown",
   "metadata": {},
   "source": [
    "DG6.How are you related to the household head? \"1=Myself\n",
    "2=Spouse\n",
    "3=Son/Daughter\n",
    "4=Father/Mother\n",
    "5=Sister/Brother\n",
    "6=Grandchild\n",
    "7=Other relative\n",
    "9=Other non-relative\n",
    "99=DK\"\n"
   ]
  },
  {
   "cell_type": "markdown",
   "metadata": {},
   "source": [
    "DL1. In the past 12 months, were you mainly...? \"1=Working full-time for a regular salary\n",
    "2=Working part-time for a regular salary\n",
    "3=Working occasionally, irregular pay (whenever the work is available)\n",
    "4=Working per season (e.g., only during the harvest season)\n",
    "5=Self-employed, working for yourself\n",
    "6=Not working but looking for a job\n",
    "7=Housewife or stay-at-home husband doing household chores\n",
    "8=Full-time student\n",
    "9=Not working because of retirement\n",
    "10=Not working because of sickness, disability, etc.\n",
    "96=Other(Specify)\n",
    "99=DK\"\n"
   ]
  },
  {
   "cell_type": "markdown",
   "metadata": {},
   "source": [
    "DG3. What is your marital status? \"1=Singe/ Not married \n",
    "2=Polygamously married (i.e., has multiple spouses)\n",
    "3=Monogamously married\n",
    "4=Divorced\n",
    "5=Separated\n",
    "6=Widow/widower\n",
    "7=Living together with my partner but not married\n",
    "8=Living together/cohabitating \n",
    "96=Other (Specify)\n",
    "99=DK\"\n"
   ]
  },
  {
   "cell_type": "markdown",
   "metadata": {},
   "source": [
    "MT1A.Who decides on who should have a phone in your household? \"1=Myself\n",
    "2=My spouse \n",
    "3=My parents/guardian\n",
    "4=My child (children) \n",
    "5=Brother\n",
    "8=Sister\n",
    "99=DK\"\n"
   ]
  },
  {
   "cell_type": "markdown",
   "metadata": {},
   "source": [
    "DL15.What is the highest grade that the female head/spouse completed? \"1=Primary or below, or not literate\n",
    "2=Middle\n",
    "3=Secondary or higher \n",
    "4=No female head/spouse\"\n"
   ]
  },
  {
   "cell_type": "markdown",
   "metadata": {},
   "source": [
    "MT2.Do you personally own a mobile phone? \"1=Yes\n",
    "2=No\"\n"
   ]
  },
  {
   "cell_type": "markdown",
   "metadata": {},
   "source": [
    "## Distribución de las variables usadas para entrenar"
   ]
  },
  {
   "cell_type": "markdown",
   "metadata": {},
   "source": [
    "A continuación se muestran los histogramas de las variables numéricas."
   ]
  },
  {
   "cell_type": "code",
   "execution_count": 54,
   "metadata": {},
   "outputs": [
    {
     "data": {
      "image/png": "[encoded data removed]",
      "text/plain": [
       "<Figure size 432x288 with 1 Axes>"
      ]
     },
     "metadata": {
      "needs_background": "light"
     },
     "output_type": "display_data"
    },
    {
     "data": {
      "image/png": "[encoded data removed]",
      "text/plain": [
       "<Figure size 432x288 with 1 Axes>"
      ]
     },
     "metadata": {
      "needs_background": "light"
     },
     "output_type": "display_data"
    },
    {
     "data": {
      "image/png": "[encoded data removed]",
      "text/plain": [
       "<Figure size 432x288 with 1 Axes>"
      ]
     },
     "metadata": {
      "needs_background": "light"
     },
     "output_type": "display_data"
    },
    {
     "data": {
      "image/png": "[encoded data removed]",
      "text/plain": [
       "<Figure size 432x288 with 1 Axes>"
      ]
     },
     "metadata": {
      "needs_background": "light"
     },
     "output_type": "display_data"
    },
    {
     "data": {
      "image/png": "[encoded data removed]",
      "text/plain": [
       "<Figure size 432x288 with 1 Axes>"
      ]
     },
     "metadata": {
      "needs_background": "light"
     },
     "output_type": "display_data"
    },
    {
     "data": {
      "image/png": "[encoded data removed]",
      "text/plain": [
       "<Figure size 432x288 with 1 Axes>"
      ]
     },
     "metadata": {
      "needs_background": "light"
     },
     "output_type": "display_data"
    },
    {
     "data": {
      "image/png": "[encoded data removed]",
      "text/plain": [
       "<Figure size 432x288 with 1 Axes>"
      ]
     },
     "metadata": {
      "needs_background": "light"
     },
     "output_type": "display_data"
    },
    {
     "data": {
      "image/png": "[encoded data removed]",
      "text/plain": [
       "<Figure size 432x288 with 1 Axes>"
      ]
     },
     "metadata": {
      "needs_background": "light"
     },
     "output_type": "display_data"
    },
    {
     "data": {
      "image/png": "[encoded data removed]",
      "text/plain": [
       "<Figure size 432x288 with 1 Axes>"
      ]
     },
     "metadata": {
      "needs_background": "light"
     },
     "output_type": "display_data"
    },
    {
     "data": {
      "image/png": "[encoded data removed]",
      "text/plain": [
       "<Figure size 432x288 with 1 Axes>"
      ]
     },
     "metadata": {
      "needs_background": "light"
     },
     "output_type": "display_data"
    },
    {
     "data": {
      "image/png": "[encoded data removed]",
      "text/plain": [
       "<Figure size 432x288 with 1 Axes>"
      ]
     },
     "metadata": {
      "needs_background": "light"
     },
     "output_type": "display_data"
    },
    {
     "data": {
      "image/png": "[encoded data removed]",
      "text/plain": [
       "<Figure size 432x288 with 1 Axes>"
      ]
     },
     "metadata": {
      "needs_background": "light"
     },
     "output_type": "display_data"
    },
    {
     "data": {
      "image/png": "[encoded data removed]",
      "text/plain": [
       "<Figure size 432x288 with 1 Axes>"
      ]
     },
     "metadata": {
      "needs_background": "light"
     },
     "output_type": "display_data"
    },
    {
     "data": {
      "image/png": "[encoded data removed]",
      "text/plain": [
       "<Figure size 432x288 with 1 Axes>"
      ]
     },
     "metadata": {
      "needs_background": "light"
     },
     "output_type": "display_data"
    },
    {
     "data": {
      "image/png": "[encoded data removed]",
      "text/plain": [
       "<Figure size 432x288 with 1 Axes>"
      ]
     },
     "metadata": {
      "needs_background": "light"
     },
     "output_type": "display_data"
    },
    {
     "data": {
      "image/png": "[encoded data removed]",
      "text/plain": [
       "<Figure size 432x288 with 1 Axes>"
      ]
     },
     "metadata": {
      "needs_background": "light"
     },
     "output_type": "display_data"
    }
   ],
   "source": [
    "for var in numeric_variables:\n",
    "    train[var].hist()\n",
    "    plt.ylabel(var)\n",
    "    plt.show()"
   ]
  },
  {
   "cell_type": "markdown",
   "metadata": {},
   "source": [
    "A continuación se deja indicado el código para graficar las 1.076 variables categóricas."
   ]
  },
  {
   "cell_type": "code",
   "execution_count": 55,
   "metadata": {},
   "outputs": [],
   "source": [
    "#for var in categorical_variables:\n",
    "#    train[var].value_counts().plot(kind='bar')\n",
    "#    plt.ylabel(var)\n",
    "#    plt.show()"
   ]
  },
  {
   "cell_type": "code",
   "execution_count": null,
   "metadata": {},
   "outputs": [],
   "source": []
  }
 ],
 "metadata": {
  "kernelspec": {
   "display_name": "Python 3",
   "language": "python",
   "name": "python3"
  },
  "language_info": {
   "codemirror_mode": {
    "name": "ipython",
    "version": 3
   },
   "file_extension": ".py",
   "mimetype": "text/x-python",
   "name": "python",
   "nbconvert_exporter": "python",
   "pygments_lexer": "ipython3",
   "version": "3.7.0"
  }
 },
 "nbformat": 4,
 "nbformat_minor": 2
}
